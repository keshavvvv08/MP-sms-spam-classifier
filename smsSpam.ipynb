{
 "cells": [
  {
   "cell_type": "code",
   "execution_count": null,
   "id": "7bbe1697",
   "metadata": {},
   "outputs": [],
   "source": []
  },
  {
   "cell_type": "code",
   "execution_count": 2,
   "id": "fe17f433",
   "metadata": {
    "id": "fe17f433"
   },
   "outputs": [
    {
     "ename": "ModuleNotFoundError",
     "evalue": "No module named 'pandas'",
     "output_type": "error",
     "traceback": [
      "\u001b[0;31m---------------------------------------------------------------------------\u001b[0m",
      "\u001b[0;31mModuleNotFoundError\u001b[0m                       Traceback (most recent call last)",
      "\u001b[0;32m/tmp/ipykernel_10542/1662815981.py\u001b[0m in \u001b[0;36m<module>\u001b[0;34m\u001b[0m\n\u001b[1;32m      1\u001b[0m \u001b[0;32mimport\u001b[0m \u001b[0mnumpy\u001b[0m \u001b[0;32mas\u001b[0m \u001b[0mnp\u001b[0m\u001b[0;34m\u001b[0m\u001b[0;34m\u001b[0m\u001b[0m\n\u001b[0;32m----> 2\u001b[0;31m \u001b[0;32mimport\u001b[0m \u001b[0mpandas\u001b[0m \u001b[0;32mas\u001b[0m \u001b[0mpd\u001b[0m\u001b[0;34m\u001b[0m\u001b[0;34m\u001b[0m\u001b[0m\n\u001b[0m",
      "\u001b[0;31mModuleNotFoundError\u001b[0m: No module named 'pandas'"
     ]
    }
   ],
   "source": [
    "import numpy as np\n",
    "import pandas as pd"
   ]
  },
  {
   "cell_type": "code",
   "execution_count": 3,
   "id": "51dd19c0",
   "metadata": {
    "colab": {
     "base_uri": "https://localhost:8080/"
    },
    "id": "51dd19c0",
    "outputId": "e2414b65-f250-4bc2-b4e6-0e8c36117b0c"
   },
   "outputs": [
    {
     "name": "stdout",
     "output_type": "stream",
     "text": [
      "<_io.TextIOWrapper name='spam.csv' mode='r' encoding='UTF-8'>\n"
     ]
    }
   ],
   "source": [
    "with open('spam.csv') as f:\n",
    "    print(f)"
   ]
  },
  {
   "cell_type": "code",
   "execution_count": 4,
   "id": "5cf1fd0f",
   "metadata": {
    "id": "5cf1fd0f"
   },
   "outputs": [
    {
     "ename": "NameError",
     "evalue": "name 'pd' is not defined",
     "output_type": "error",
     "traceback": [
      "\u001b[0;31m---------------------------------------------------------------------------\u001b[0m",
      "\u001b[0;31mNameError\u001b[0m                                 Traceback (most recent call last)",
      "\u001b[0;32m/tmp/ipykernel_10542/3128464994.py\u001b[0m in \u001b[0;36m<module>\u001b[0;34m\u001b[0m\n\u001b[0;32m----> 1\u001b[0;31m \u001b[0mdf\u001b[0m \u001b[0;34m=\u001b[0m \u001b[0mpd\u001b[0m\u001b[0;34m.\u001b[0m\u001b[0mread_csv\u001b[0m\u001b[0;34m(\u001b[0m\u001b[0;34m'spam.csv'\u001b[0m\u001b[0;34m,\u001b[0m\u001b[0mencoding\u001b[0m\u001b[0;34m=\u001b[0m\u001b[0;34m'cp1252'\u001b[0m\u001b[0;34m)\u001b[0m\u001b[0;34m\u001b[0m\u001b[0;34m\u001b[0m\u001b[0m\n\u001b[0m",
      "\u001b[0;31mNameError\u001b[0m: name 'pd' is not defined"
     ]
    }
   ],
   "source": [
    "df = pd.read_csv('spam.csv',encoding='cp1252')"
   ]
  },
  {
   "cell_type": "code",
   "execution_count": null,
   "id": "Lr_OAtoIl0pN",
   "metadata": {
    "colab": {
     "base_uri": "https://localhost:8080/",
     "height": 269
    },
    "id": "Lr_OAtoIl0pN",
    "outputId": "5fd216fa-b8c9-4fd0-87f4-ed09a1a963d2"
   },
   "outputs": [],
   "source": [
    "df.head(7)"
   ]
  },
  {
   "cell_type": "code",
   "execution_count": null,
   "id": "57ad280f",
   "metadata": {
    "colab": {
     "base_uri": "https://localhost:8080/",
     "height": 206
    },
    "id": "57ad280f",
    "outputId": "7872e68b-de91-4ecc-8116-35abe4622e88"
   },
   "outputs": [],
   "source": [
    "df.sample(5)"
   ]
  },
  {
   "cell_type": "code",
   "execution_count": null,
   "id": "c0283320",
   "metadata": {
    "colab": {
     "base_uri": "https://localhost:8080/"
    },
    "id": "c0283320",
    "outputId": "de519305-b312-465c-dffb-694026227e43"
   },
   "outputs": [],
   "source": [
    "df.info()"
   ]
  },
  {
   "cell_type": "code",
   "execution_count": null,
   "id": "45c0315c",
   "metadata": {
    "colab": {
     "base_uri": "https://localhost:8080/",
     "height": 206
    },
    "id": "45c0315c",
    "outputId": "10c4cf8f-b757-429f-ff61-cf98ba48e5d5"
   },
   "outputs": [],
   "source": [
    "df.head()\n"
   ]
  },
  {
   "cell_type": "code",
   "execution_count": null,
   "id": "2b905d2a",
   "metadata": {
    "id": "2b905d2a"
   },
   "outputs": [],
   "source": [
    "df.drop(columns=['Unnamed: 2','Unnamed: 3','Unnamed: 4'],inplace=True)"
   ]
  },
  {
   "cell_type": "code",
   "execution_count": null,
   "id": "b377e292",
   "metadata": {
    "colab": {
     "base_uri": "https://localhost:8080/"
    },
    "id": "b377e292",
    "outputId": "78c86e72-32f4-4489-abf3-ffbbb972de86"
   },
   "outputs": [],
   "source": [
    "df.info()"
   ]
  },
  {
   "cell_type": "code",
   "execution_count": null,
   "id": "016cd4f7",
   "metadata": {
    "colab": {
     "base_uri": "https://localhost:8080/",
     "height": 206
    },
    "id": "016cd4f7",
    "outputId": "20d91090-9ddd-4470-8806-e1a55f8985ec"
   },
   "outputs": [],
   "source": [
    "df.sample(5)"
   ]
  },
  {
   "cell_type": "code",
   "execution_count": null,
   "id": "6da37ca7",
   "metadata": {
    "id": "6da37ca7"
   },
   "outputs": [],
   "source": [
    "df.rename(columns={'v1':'Target','v2':'Text'},inplace=True)"
   ]
  },
  {
   "cell_type": "code",
   "execution_count": null,
   "id": "57a2e319",
   "metadata": {
    "colab": {
     "base_uri": "https://localhost:8080/",
     "height": 206
    },
    "id": "57a2e319",
    "outputId": "1f2ef317-dbe0-4830-ca91-5ef975e5dd05"
   },
   "outputs": [],
   "source": [
    "df.sample(5)"
   ]
  },
  {
   "cell_type": "markdown",
   "id": "80efc83e",
   "metadata": {
    "id": "80efc83e"
   },
   "source": [
    "# Label Encoding"
   ]
  },
  {
   "cell_type": "code",
   "execution_count": null,
   "id": "6c42e8ca",
   "metadata": {
    "id": "6c42e8ca"
   },
   "outputs": [],
   "source": [
    "from sklearn.preprocessing import LabelEncoder\n",
    "encoder = LabelEncoder()"
   ]
  },
  {
   "cell_type": "code",
   "execution_count": null,
   "id": "c5a6de27",
   "metadata": {
    "id": "c5a6de27"
   },
   "outputs": [],
   "source": [
    "df['Target'] = encoder.fit_transform(df['Target'])"
   ]
  },
  {
   "cell_type": "code",
   "execution_count": null,
   "id": "d427677c",
   "metadata": {
    "colab": {
     "base_uri": "https://localhost:8080/",
     "height": 206
    },
    "id": "d427677c",
    "outputId": "bd0e03f8-2011-43de-9457-bd1bdfdf5e4a"
   },
   "outputs": [],
   "source": [
    "df.sample(5)"
   ]
  },
  {
   "cell_type": "code",
   "execution_count": null,
   "id": "d80b3b7f",
   "metadata": {
    "colab": {
     "base_uri": "https://localhost:8080/",
     "height": 206
    },
    "id": "d80b3b7f",
    "outputId": "b8863bf3-5249-4f0b-bffa-26392529e067"
   },
   "outputs": [],
   "source": [
    "df.head()\n"
   ]
  },
  {
   "cell_type": "code",
   "execution_count": null,
   "id": "6dbc924c",
   "metadata": {
    "colab": {
     "base_uri": "https://localhost:8080/"
    },
    "id": "6dbc924c",
    "outputId": "dbbec028-b1b7-4cc5-9452-5ee27fa8e3a4"
   },
   "outputs": [],
   "source": [
    "df.isnull().sum()"
   ]
  },
  {
   "cell_type": "code",
   "execution_count": null,
   "id": "b7a23c8d",
   "metadata": {
    "colab": {
     "base_uri": "https://localhost:8080/"
    },
    "id": "b7a23c8d",
    "outputId": "1564f859-1298-4e4d-c93f-942d08686040"
   },
   "outputs": [],
   "source": [
    "df.duplicated().sum()"
   ]
  },
  {
   "cell_type": "code",
   "execution_count": null,
   "id": "92b46796",
   "metadata": {
    "colab": {
     "base_uri": "https://localhost:8080/",
     "height": 424
    },
    "id": "92b46796",
    "outputId": "83832585-8d0d-44f0-e290-02e8139c1eeb"
   },
   "outputs": [],
   "source": [
    "df.drop_duplicates(keep='first')"
   ]
  },
  {
   "cell_type": "code",
   "execution_count": null,
   "id": "9a69c21b",
   "metadata": {
    "id": "9a69c21b"
   },
   "outputs": [],
   "source": [
    "df.drop_duplicates(keep='first',inplace=True)"
   ]
  },
  {
   "cell_type": "code",
   "execution_count": null,
   "id": "cd06b939",
   "metadata": {
    "colab": {
     "base_uri": "https://localhost:8080/"
    },
    "id": "cd06b939",
    "outputId": "2415daf0-f427-4e01-8b34-a2c1d92efbcb"
   },
   "outputs": [],
   "source": [
    "df.duplicated().sum()"
   ]
  },
  {
   "cell_type": "code",
   "execution_count": null,
   "id": "7adc1a0d",
   "metadata": {
    "id": "7adc1a0d"
   },
   "outputs": [],
   "source": [
    "df=df.drop_duplicates(keep='first') "
   ]
  },
  {
   "cell_type": "code",
   "execution_count": null,
   "id": "592cd523",
   "metadata": {
    "colab": {
     "base_uri": "https://localhost:8080/"
    },
    "id": "592cd523",
    "outputId": "18aa257c-f51d-4eed-bca2-275dc85292fc"
   },
   "outputs": [],
   "source": [
    "df.duplicated().sum()"
   ]
  },
  {
   "cell_type": "code",
   "execution_count": null,
   "id": "b76eb29f",
   "metadata": {
    "colab": {
     "base_uri": "https://localhost:8080/",
     "height": 206
    },
    "id": "b76eb29f",
    "outputId": "1df64b7b-6ca0-4c15-e2ec-27362710ff5c"
   },
   "outputs": [],
   "source": [
    "df.head()"
   ]
  },
  {
   "cell_type": "code",
   "execution_count": null,
   "id": "44847ce2",
   "metadata": {
    "colab": {
     "base_uri": "https://localhost:8080/"
    },
    "id": "44847ce2",
    "outputId": "89902585-2e2a-46d5-d314-be0c3e8138cb"
   },
   "outputs": [],
   "source": [
    "df.shape"
   ]
  },
  {
   "cell_type": "markdown",
   "id": "c7931861",
   "metadata": {
    "id": "c7931861"
   },
   "source": [
    "2. Exploratory Data Analysis"
   ]
  },
  {
   "cell_type": "code",
   "execution_count": null,
   "id": "b366188c",
   "metadata": {
    "colab": {
     "base_uri": "https://localhost:8080/"
    },
    "id": "b366188c",
    "outputId": "9b1bed17-4308-4df7-ce39-e1934621d3dd"
   },
   "outputs": [],
   "source": [
    "df.info()"
   ]
  },
  {
   "cell_type": "code",
   "execution_count": null,
   "id": "678446b5",
   "metadata": {
    "colab": {
     "base_uri": "https://localhost:8080/",
     "height": 206
    },
    "id": "678446b5",
    "outputId": "d4714825-8a28-4ad1-a960-02d24935d22b"
   },
   "outputs": [],
   "source": [
    "df.head()"
   ]
  },
  {
   "cell_type": "code",
   "execution_count": null,
   "id": "aee6642f",
   "metadata": {
    "colab": {
     "base_uri": "https://localhost:8080/"
    },
    "id": "aee6642f",
    "outputId": "5f5dcf71-5ee2-4e64-b83e-945d740f0f02"
   },
   "outputs": [],
   "source": [
    "df.dtypes"
   ]
  },
  {
   "cell_type": "code",
   "execution_count": null,
   "id": "27f1a68a",
   "metadata": {
    "colab": {
     "base_uri": "https://localhost:8080/"
    },
    "id": "27f1a68a",
    "outputId": "3bccf0e8-7d68-48ba-ea56-c7fd822d622c"
   },
   "outputs": [],
   "source": [
    "df[\"Target\"].unique()"
   ]
  },
  {
   "cell_type": "code",
   "execution_count": null,
   "id": "9d02b0f3",
   "metadata": {
    "colab": {
     "base_uri": "https://localhost:8080/"
    },
    "id": "9d02b0f3",
    "outputId": "089c4e49-1540-4285-cd8e-02f0db23ae4b"
   },
   "outputs": [],
   "source": [
    "df[\"Target\"].unique()"
   ]
  },
  {
   "cell_type": "code",
   "execution_count": null,
   "id": "a32b14a9",
   "metadata": {
    "colab": {
     "base_uri": "https://localhost:8080/"
    },
    "id": "a32b14a9",
    "outputId": "22de8ceb-9900-4791-ce86-569d67948a43"
   },
   "outputs": [],
   "source": [
    "df[\"Target\"].value_counts()"
   ]
  },
  {
   "cell_type": "code",
   "execution_count": null,
   "id": "f798edfb",
   "metadata": {
    "colab": {
     "base_uri": "https://localhost:8080/",
     "height": 352
    },
    "id": "f798edfb",
    "outputId": "534dd059-027d-479a-d408-867be59b3c85"
   },
   "outputs": [],
   "source": [
    "import matplotlib.pyplot as plt\n",
    "plt.pie(df[\"Target\"].value_counts(), labels=['ham','spam'],autopct=\"%0.2f\")"
   ]
  },
  {
   "cell_type": "code",
   "execution_count": null,
   "id": "a414d98e",
   "metadata": {
    "colab": {
     "base_uri": "https://localhost:8080/"
    },
    "id": "a414d98e",
    "outputId": "e69ff186-4ff0-4fe4-ceec-c158a32b22d4"
   },
   "outputs": [],
   "source": [
    "pip install matplotlib"
   ]
  },
  {
   "cell_type": "code",
   "execution_count": null,
   "id": "fd78248a",
   "metadata": {
    "colab": {
     "base_uri": "https://localhost:8080/",
     "height": 248
    },
    "id": "fd78248a",
    "outputId": "df470b45-bb0c-4d50-92dc-169f1bc54bd2"
   },
   "outputs": [],
   "source": [
    "import matplotlib.pyplot as plt\n",
    "plt.pie(df[\"Target\"].value_counts(), labels=['ham','spam'],autopct=\"%0.2f\")\n",
    "plt.show()"
   ]
  },
  {
   "cell_type": "code",
   "execution_count": null,
   "id": "ad60f814",
   "metadata": {
    "id": "ad60f814"
   },
   "outputs": [],
   "source": [
    "#data is definitely imbalanced, as presence of \"ham\" is much larger than \"spam\""
   ]
  },
  {
   "cell_type": "code",
   "execution_count": null,
   "id": "33c1c4db",
   "metadata": {
    "id": "33c1c4db"
   },
   "outputs": [],
   "source": [
    "import nltk"
   ]
  },
  {
   "cell_type": "code",
   "execution_count": null,
   "id": "0cd4a048",
   "metadata": {
    "colab": {
     "base_uri": "https://localhost:8080/"
    },
    "id": "0cd4a048",
    "outputId": "8a65eecf-3073-43d7-cd6f-b777e906907a"
   },
   "outputs": [],
   "source": [
    "pip install nltk"
   ]
  },
  {
   "cell_type": "code",
   "execution_count": null,
   "id": "8107d193",
   "metadata": {
    "id": "8107d193"
   },
   "outputs": [],
   "source": [
    "import nltk"
   ]
  },
  {
   "cell_type": "code",
   "execution_count": null,
   "id": "fb74e973",
   "metadata": {
    "colab": {
     "base_uri": "https://localhost:8080/"
    },
    "id": "fb74e973",
    "outputId": "25e737bf-b4c1-44c8-b2d3-00c6d1607d98"
   },
   "outputs": [],
   "source": [
    "nltk.download('punkt')"
   ]
  },
  {
   "cell_type": "code",
   "execution_count": null,
   "id": "e7861853",
   "metadata": {
    "id": "e7861853"
   },
   "outputs": [],
   "source": [
    "#nltk is Natural Language Tool Kit, which is a quite famous library"
   ]
  },
  {
   "cell_type": "code",
   "execution_count": null,
   "id": "220be740",
   "metadata": {
    "colab": {
     "base_uri": "https://localhost:8080/"
    },
    "id": "220be740",
    "outputId": "df41d0e6-661b-42e7-9b3b-504b4aae290a"
   },
   "outputs": [],
   "source": [
    "df[\"Text\"].apply(len)"
   ]
  },
  {
   "cell_type": "code",
   "execution_count": null,
   "id": "9f2e807d",
   "metadata": {
    "id": "9f2e807d"
   },
   "outputs": [],
   "source": [
    "df['num_characters'] = df[\"Text\"].apply(len)"
   ]
  },
  {
   "cell_type": "code",
   "execution_count": null,
   "id": "b7db04b8",
   "metadata": {
    "colab": {
     "base_uri": "https://localhost:8080/",
     "height": 206
    },
    "id": "b7db04b8",
    "outputId": "f8ec5149-9a49-486c-d786-34a43746e492"
   },
   "outputs": [],
   "source": [
    "df.head()"
   ]
  },
  {
   "cell_type": "code",
   "execution_count": null,
   "id": "b6ed9a99",
   "metadata": {
    "id": "b6ed9a99"
   },
   "outputs": [],
   "source": [
    "# fetch the number of words"
   ]
  },
  {
   "cell_type": "code",
   "execution_count": null,
   "id": "4b88c6c7",
   "metadata": {
    "colab": {
     "base_uri": "https://localhost:8080/"
    },
    "id": "4b88c6c7",
    "outputId": "1c4253ea-59ce-4509-a685-9c517987f9ab"
   },
   "outputs": [],
   "source": [
    "df['Text'].apply(lambda x:nltk.word_tokenize(x))"
   ]
  },
  {
   "cell_type": "code",
   "execution_count": null,
   "id": "84796f92",
   "metadata": {
    "id": "84796f92"
   },
   "outputs": [],
   "source": [
    "df['num_words']=df['Text'].apply(lambda x:len(nltk.word_tokenize(x)))"
   ]
  },
  {
   "cell_type": "code",
   "execution_count": null,
   "id": "2df15846",
   "metadata": {
    "colab": {
     "base_uri": "https://localhost:8080/",
     "height": 206
    },
    "id": "2df15846",
    "outputId": "3cd62fe6-3bcb-4f8b-c619-ee0714768d1b"
   },
   "outputs": [],
   "source": [
    "df.head()"
   ]
  },
  {
   "cell_type": "code",
   "execution_count": null,
   "id": "9fff4989",
   "metadata": {
    "colab": {
     "base_uri": "https://localhost:8080/"
    },
    "id": "9fff4989",
    "outputId": "17e20ad2-2c46-4bbf-bef4-9869454d0f8a"
   },
   "outputs": [],
   "source": [
    "df['Text'].apply(lambda x:len(nltk.sent_tokenize(x)))"
   ]
  },
  {
   "cell_type": "code",
   "execution_count": null,
   "id": "0bc87c4c",
   "metadata": {
    "id": "0bc87c4c"
   },
   "outputs": [],
   "source": [
    "df['num_sentences']= df['Text'].apply(lambda x:len(nltk.sent_tokenize(x)))"
   ]
  },
  {
   "cell_type": "code",
   "execution_count": null,
   "id": "0c3ab72b",
   "metadata": {
    "colab": {
     "base_uri": "https://localhost:8080/",
     "height": 206
    },
    "id": "0c3ab72b",
    "outputId": "22ee7a71-f33d-4a48-deb5-e498ac1445ae"
   },
   "outputs": [],
   "source": [
    "df.head()"
   ]
  },
  {
   "cell_type": "code",
   "execution_count": null,
   "id": "dbd5ff19",
   "metadata": {
    "colab": {
     "base_uri": "https://localhost:8080/",
     "height": 300
    },
    "id": "dbd5ff19",
    "outputId": "dac4e90f-6283-4475-c3a9-3eb090af6d17"
   },
   "outputs": [],
   "source": [
    "df[['num_characters','num_words','num_sentences']].describe()"
   ]
  },
  {
   "cell_type": "code",
   "execution_count": null,
   "id": "75a01999",
   "metadata": {
    "id": "75a01999"
   },
   "outputs": [],
   "source": [
    "#ham"
   ]
  },
  {
   "cell_type": "code",
   "execution_count": null,
   "id": "82c119cb",
   "metadata": {
    "colab": {
     "base_uri": "https://localhost:8080/",
     "height": 300
    },
    "id": "82c119cb",
    "outputId": "9415373e-6289-456a-d86d-4977f44bf19c"
   },
   "outputs": [],
   "source": [
    "df[df['Target']==0][['num_characters','num_words','num_sentences']].describe()"
   ]
  },
  {
   "cell_type": "code",
   "execution_count": null,
   "id": "5b7f7c50",
   "metadata": {
    "id": "5b7f7c50"
   },
   "outputs": [],
   "source": [
    "#spam"
   ]
  },
  {
   "cell_type": "code",
   "execution_count": null,
   "id": "49b85579",
   "metadata": {
    "colab": {
     "base_uri": "https://localhost:8080/",
     "height": 300
    },
    "id": "49b85579",
    "outputId": "5e3c2c20-e163-4e01-97e3-0d2c1201346b"
   },
   "outputs": [],
   "source": [
    "df[df['Target']==1][['num_characters','num_words','num_sentences']].describe()"
   ]
  },
  {
   "cell_type": "code",
   "execution_count": null,
   "id": "e35bcfe1",
   "metadata": {
    "id": "e35bcfe1"
   },
   "outputs": [],
   "source": [
    "import seaborn as sns"
   ]
  },
  {
   "cell_type": "code",
   "execution_count": null,
   "id": "06ff6297",
   "metadata": {
    "id": "06ff6297"
   },
   "outputs": [],
   "source": [
    "import seaborn as sns"
   ]
  },
  {
   "cell_type": "code",
   "execution_count": null,
   "id": "382c5d4e",
   "metadata": {
    "colab": {
     "base_uri": "https://localhost:8080/",
     "height": 297
    },
    "id": "382c5d4e",
    "outputId": "4fa6ab5b-4cfc-4bb4-b2a3-2f98b709d90a"
   },
   "outputs": [],
   "source": [
    "sns.histplot(df[df['Target']==0]['num_characters'])"
   ]
  },
  {
   "cell_type": "code",
   "execution_count": null,
   "id": "5f4b61a5",
   "metadata": {
    "colab": {
     "base_uri": "https://localhost:8080/",
     "height": 297
    },
    "id": "5f4b61a5",
    "outputId": "50413a9c-7188-4e05-d0be-a128d999dd95"
   },
   "outputs": [],
   "source": [
    "sns.histplot(df[df['Target']==1]['num_characters'])"
   ]
  },
  {
   "cell_type": "code",
   "execution_count": null,
   "id": "938dcb8d",
   "metadata": {
    "colab": {
     "base_uri": "https://localhost:8080/",
     "height": 297
    },
    "id": "938dcb8d",
    "outputId": "a129e11b-d913-4abb-f82c-b4bd64abb7f7"
   },
   "outputs": [],
   "source": [
    "sns.histplot(df[df['Target']==0]['num_characters'])\n",
    "sns.histplot(df[df['Target']==1]['num_characters'],color='green')"
   ]
  },
  {
   "cell_type": "code",
   "execution_count": null,
   "id": "cca1a563",
   "metadata": {
    "colab": {
     "base_uri": "https://localhost:8080/",
     "height": 623
    },
    "id": "cca1a563",
    "outputId": "13a90147-cb87-47a3-c766-da89c1415fca"
   },
   "outputs": [],
   "source": [
    "plt.figure(figsize=(12,10))\n",
    "sns.histplot(df[df['Target']==0]['num_characters'])\n",
    "sns.histplot(df[df['Target']==1]['num_characters'],color='green')"
   ]
  },
  {
   "cell_type": "code",
   "execution_count": null,
   "id": "74862785",
   "metadata": {
    "colab": {
     "base_uri": "https://localhost:8080/",
     "height": 623
    },
    "id": "74862785",
    "outputId": "14f4fbd4-a04e-4284-899b-99df7211ff54"
   },
   "outputs": [],
   "source": [
    "plt.figure(figsize=(12,10))\n",
    "sns.histplot(df[df['Target']==0]['num_words'])\n",
    "sns.histplot(df[df['Target']==1]['num_words'],color='red')"
   ]
  },
  {
   "cell_type": "code",
   "execution_count": null,
   "id": "a03c2b23",
   "metadata": {
    "colab": {
     "base_uri": "https://localhost:8080/",
     "height": 567
    },
    "id": "a03c2b23",
    "outputId": "d59e267b-b27b-4c05-90c3-1bd7dcf64faa"
   },
   "outputs": [],
   "source": [
    "sns.pairplot(df,hue='Target')"
   ]
  },
  {
   "cell_type": "code",
   "execution_count": null,
   "id": "e4d9c32e",
   "metadata": {
    "colab": {
     "base_uri": "https://localhost:8080/",
     "height": 357
    },
    "id": "e4d9c32e",
    "outputId": "6859f5af-f9e0-4a48-cf1f-2ad10126c406"
   },
   "outputs": [],
   "source": [
    "sns.heatmap(df.corr(),annot=True)"
   ]
  },
  {
   "cell_type": "markdown",
   "id": "2b98db1a",
   "metadata": {
    "id": "2b98db1a"
   },
   "source": [
    "# Data Preprocessing"
   ]
  },
  {
   "cell_type": "code",
   "execution_count": null,
   "id": "-9yhCkWrjXe_",
   "metadata": {
    "id": "-9yhCkWrjXe_"
   },
   "outputs": [],
   "source": [
    "from nltk.stem.porter import PorterStemmer\n",
    "ps=PorterStemmer()\n",
    "\n",
    "def transform_text(text):\n",
    "    text = text.lower()\n",
    "    text = nltk.word_tokenize(text)\n",
    "    \n",
    "    y = []\n",
    "    for i in text:\n",
    "        if i.isalnum():\n",
    "            y.append(i)\n",
    "    \n",
    "    text = y[:]\n",
    "    y.clear()\n",
    "    \n",
    "    for i in text:\n",
    "        if i not in stopwords.words('english') and i not in string.punctuation:\n",
    "            y.append(i)\n",
    "            \n",
    "    text = y[:]\n",
    "    y.clear()\n",
    "    \n",
    "    for i in text:\n",
    "        y.append(ps.stem(i))\n",
    "    \n",
    "            \n",
    "    return \" \".join(y)\n",
    "\n"
   ]
  },
  {
   "cell_type": "code",
   "execution_count": null,
   "id": "05b3c53e",
   "metadata": {
    "id": "05b3c53e"
   },
   "outputs": [],
   "source": [
    "from nltk.corpus import stopwords"
   ]
  },
  {
   "cell_type": "code",
   "execution_count": null,
   "id": "e4fc87ec",
   "metadata": {
    "id": "e4fc87ec"
   },
   "outputs": [],
   "source": [
    "import string"
   ]
  },
  {
   "cell_type": "code",
   "execution_count": null,
   "id": "25042ebb",
   "metadata": {
    "colab": {
     "base_uri": "https://localhost:8080/",
     "height": 35
    },
    "id": "25042ebb",
    "outputId": "a4224d43-d7aa-4988-d876-a67851b711bb"
   },
   "outputs": [],
   "source": [
    "string.punctuation"
   ]
  },
  {
   "cell_type": "code",
   "execution_count": null,
   "id": "41090545",
   "metadata": {
    "id": "41090545"
   },
   "outputs": [],
   "source": [
    "from nltk.corpus import stopwords\n"
   ]
  },
  {
   "cell_type": "code",
   "execution_count": null,
   "id": "1dffa5bf",
   "metadata": {
    "id": "1dffa5bf"
   },
   "outputs": [],
   "source": [
    "import nltk"
   ]
  },
  {
   "cell_type": "code",
   "execution_count": null,
   "id": "10021b7f",
   "metadata": {
    "colab": {
     "base_uri": "https://localhost:8080/"
    },
    "id": "10021b7f",
    "outputId": "2e893a35-a2f0-479a-83b7-6c1ece43fd50"
   },
   "outputs": [],
   "source": [
    "nltk.download('stopwords')"
   ]
  },
  {
   "cell_type": "code",
   "execution_count": null,
   "id": "f3eec773",
   "metadata": {
    "colab": {
     "base_uri": "https://localhost:8080/"
    },
    "id": "f3eec773",
    "outputId": "eaf67b44-6e00-485c-8cd8-9e1109b053fc"
   },
   "outputs": [],
   "source": [
    "print(stopwords.words('english'))"
   ]
  },
  {
   "cell_type": "code",
   "execution_count": null,
   "id": "ae49938c",
   "metadata": {
    "colab": {
     "base_uri": "https://localhost:8080/",
     "height": 206
    },
    "id": "ae49938c",
    "outputId": "b93e3804-d2f8-49b1-e67c-1a13d9302162"
   },
   "outputs": [],
   "source": [
    "df.head()"
   ]
  },
  {
   "cell_type": "code",
   "execution_count": null,
   "id": "f59aacb9",
   "metadata": {
    "id": "f59aacb9"
   },
   "outputs": [],
   "source": [
    "import string"
   ]
  },
  {
   "cell_type": "code",
   "execution_count": null,
   "id": "c33656e9",
   "metadata": {
    "colab": {
     "base_uri": "https://localhost:8080/",
     "height": 35
    },
    "id": "c33656e9",
    "outputId": "a3cf720d-b7d2-4f6f-e44d-b5378f0063e9"
   },
   "outputs": [],
   "source": [
    "string.punctuation"
   ]
  },
  {
   "cell_type": "code",
   "execution_count": null,
   "id": "0df0d76b",
   "metadata": {
    "colab": {
     "base_uri": "https://localhost:8080/",
     "height": 35
    },
    "id": "0df0d76b",
    "outputId": "76316762-be60-4de0-fa93-620807097ff8"
   },
   "outputs": [],
   "source": [
    "transform_text('I loved youtubing lectures on machine learning, how about you?')"
   ]
  },
  {
   "cell_type": "code",
   "execution_count": null,
   "id": "c6118ab6",
   "metadata": {
    "id": "c6118ab6"
   },
   "outputs": [],
   "source": [
    "# list 'y' cannot be copied like :\n",
    "# text = y, it has to be cloned in the following way\n",
    "# text = y[:]"
   ]
  },
  {
   "cell_type": "markdown",
   "id": "b0dc5b2a",
   "metadata": {
    "id": "b0dc5b2a"
   },
   "source": [
    "# Stemming"
   ]
  },
  {
   "cell_type": "code",
   "execution_count": null,
   "id": "c0c3c574",
   "metadata": {
    "colab": {
     "base_uri": "https://localhost:8080/",
     "height": 35
    },
    "id": "c0c3c574",
    "outputId": "8bd5bfd6-7b52-4ae0-bec2-56d60f8c5962"
   },
   "outputs": [],
   "source": [
    "from nltk.stem.porter import PorterStemmer\n",
    "ps=PorterStemmer()\n",
    "ps.stem('dancing')"
   ]
  },
  {
   "cell_type": "code",
   "execution_count": null,
   "id": "39b2abe3",
   "metadata": {
    "colab": {
     "base_uri": "https://localhost:8080/",
     "height": 35
    },
    "id": "39b2abe3",
    "outputId": "8874f02a-74bf-4247-b1c6-d760bd9ccb7a"
   },
   "outputs": [],
   "source": [
    "transform_text(\"But i'll be going 2 sch on mon. My sis need to take smth\")"
   ]
  },
  {
   "cell_type": "code",
   "execution_count": null,
   "id": "0609ad73",
   "metadata": {
    "id": "0609ad73"
   },
   "outputs": [],
   "source": [
    "df['transformed_text']=df['Text'].apply(transform_text)"
   ]
  },
  {
   "cell_type": "code",
   "execution_count": null,
   "id": "b4930aba",
   "metadata": {
    "colab": {
     "base_uri": "https://localhost:8080/",
     "height": 320
    },
    "id": "b4930aba",
    "outputId": "61b382f6-c10e-42d2-f199-775dd5f5dfb7"
   },
   "outputs": [],
   "source": [
    "df.head()"
   ]
  },
  {
   "cell_type": "code",
   "execution_count": null,
   "id": "0abb12f3",
   "metadata": {
    "id": "0abb12f3"
   },
   "outputs": [],
   "source": [
    "from wordcloud import WordCloud \n",
    "wc=WordCloud(width=50,height=50,min_font_size=10,background_color='white')"
   ]
  },
  {
   "cell_type": "code",
   "execution_count": null,
   "id": "bd52a153",
   "metadata": {
    "colab": {
     "base_uri": "https://localhost:8080/"
    },
    "id": "bd52a153",
    "outputId": "5001f6f9-2677-4207-99c4-abb5342e6f32"
   },
   "outputs": [],
   "source": [
    "pip install wordcloud"
   ]
  },
  {
   "cell_type": "code",
   "execution_count": null,
   "id": "6a1052eb",
   "metadata": {
    "id": "6a1052eb"
   },
   "outputs": [],
   "source": [
    "from wordcloud import WordCloud \n",
    "wc=WordCloud(width=500,height=500,min_font_size=10,background_color='white')"
   ]
  },
  {
   "cell_type": "code",
   "execution_count": null,
   "id": "a50a2191",
   "metadata": {
    "id": "a50a2191"
   },
   "outputs": [],
   "source": [
    "spam_wc=wc.generate(df[df['Target'] == 1]['transformed_text'].str.cat(sep=\" \"))"
   ]
  },
  {
   "cell_type": "code",
   "execution_count": null,
   "id": "affa6a6d",
   "metadata": {
    "colab": {
     "base_uri": "https://localhost:8080/",
     "height": 286
    },
    "id": "affa6a6d",
    "outputId": "f715f36d-5ee9-488a-9b60-1b5f223225e7"
   },
   "outputs": [],
   "source": [
    "plt.imshow(spam_wc)"
   ]
  },
  {
   "cell_type": "code",
   "execution_count": null,
   "id": "c24fae32",
   "metadata": {
    "id": "c24fae32"
   },
   "outputs": [],
   "source": [
    "ham_wc=wc.generate(df[df['Target'] == 0]['transformed_text'].str.cat(sep=\" \"))"
   ]
  },
  {
   "cell_type": "code",
   "execution_count": null,
   "id": "9f0e239d",
   "metadata": {
    "colab": {
     "base_uri": "https://localhost:8080/",
     "height": 286
    },
    "id": "9f0e239d",
    "outputId": "70069456-3b5b-4830-c59d-b7b7867de5b8"
   },
   "outputs": [],
   "source": [
    "plt.imshow(ham_wc)"
   ]
  },
  {
   "cell_type": "code",
   "execution_count": null,
   "id": "1535f69e",
   "metadata": {
    "colab": {
     "base_uri": "https://localhost:8080/",
     "height": 320
    },
    "id": "1535f69e",
    "outputId": "3c0f98d1-ff01-42c2-f00f-e9ef53d76b12"
   },
   "outputs": [],
   "source": [
    "df.head()"
   ]
  },
  {
   "cell_type": "code",
   "execution_count": null,
   "id": "0b34f3aa",
   "metadata": {
    "colab": {
     "base_uri": "https://localhost:8080/"
    },
    "id": "0b34f3aa",
    "outputId": "75a7e471-8972-4f68-f1f8-2e5dd769ab12"
   },
   "outputs": [],
   "source": [
    "df[df['Target']==1]['transformed_text'].tolist()"
   ]
  },
  {
   "cell_type": "code",
   "execution_count": null,
   "id": "0746a6cb",
   "metadata": {
    "colab": {
     "base_uri": "https://localhost:8080/"
    },
    "id": "0746a6cb",
    "outputId": "055131d1-dcdd-44e9-8d02-02886c035dea"
   },
   "outputs": [],
   "source": [
    "for msg in df[df['Target']==1]['transformed_text'].tolist():\n",
    "    print(msg)\n"
   ]
  },
  {
   "cell_type": "code",
   "execution_count": null,
   "id": "be1dec88",
   "metadata": {
    "id": "be1dec88"
   },
   "outputs": [],
   "source": [
    "spam_corpus = []\n",
    "for msg in df[df['Target']==1]['transformed_text'].tolist():\n",
    "    for word in msg.split():\n",
    "        spam_corpus.append(word)\n"
   ]
  },
  {
   "cell_type": "code",
   "execution_count": null,
   "id": "mo5XNoZSmScs",
   "metadata": {
    "colab": {
     "base_uri": "https://localhost:8080/"
    },
    "id": "mo5XNoZSmScs",
    "outputId": "9e4b7545-3087-4d23-c7a1-8338ee49f4c2"
   },
   "outputs": [],
   "source": [
    "len(spam_corpus)"
   ]
  },
  {
   "cell_type": "code",
   "execution_count": null,
   "id": "d4d286d7",
   "metadata": {
    "id": "d4d286d7"
   },
   "outputs": [],
   "source": [
    "spam_corpus"
   ]
  },
  {
   "cell_type": "code",
   "execution_count": null,
   "id": "66fd9718",
   "metadata": {
    "id": "66fd9718"
   },
   "outputs": [],
   "source": [
    "from collections import Counter"
   ]
  },
  {
   "cell_type": "code",
   "execution_count": null,
   "id": "41715b46",
   "metadata": {
    "colab": {
     "base_uri": "https://localhost:8080/"
    },
    "id": "41715b46",
    "outputId": "9c589d7a-eaa3-4211-e1cf-52a6342705ee"
   },
   "outputs": [],
   "source": [
    "Counter(spam_corpus)"
   ]
  },
  {
   "cell_type": "code",
   "execution_count": null,
   "id": "4d5b069b",
   "metadata": {
    "colab": {
     "base_uri": "https://localhost:8080/"
    },
    "id": "4d5b069b",
    "outputId": "939df95b-81a5-4d20-f54d-090b3f0c0dd4"
   },
   "outputs": [],
   "source": [
    "Counter(spam_corpus).most_common(30)"
   ]
  },
  {
   "cell_type": "code",
   "execution_count": null,
   "id": "ceb61508",
   "metadata": {
    "colab": {
     "base_uri": "https://localhost:8080/",
     "height": 990
    },
    "id": "ceb61508",
    "outputId": "0abeaaa7-39b0-4cfc-e10d-436b0adc2fe2"
   },
   "outputs": [],
   "source": [
    "pd.DataFrame(Counter(spam_corpus).most_common(30))"
   ]
  },
  {
   "cell_type": "code",
   "execution_count": null,
   "id": "5a1f4e61",
   "metadata": {
    "colab": {
     "base_uri": "https://localhost:8080/",
     "height": 362
    },
    "id": "5a1f4e61",
    "outputId": "b3753f22-5b17-4a4d-c2be-158272e7bdd6"
   },
   "outputs": [],
   "source": [
    "sns.barplot(pd.DataFrame(Counter(spam_corpus).most_common(30))[0],pd.DataFrame(Counter(spam_corpus).most_common(30))[1])\n",
    "plt.xticks(rotation='vertical')\n",
    "plt.show()"
   ]
  },
  {
   "cell_type": "code",
   "execution_count": null,
   "id": "_jjif1PBm8pE",
   "metadata": {
    "id": "_jjif1PBm8pE"
   },
   "outputs": [],
   "source": [
    "ham_corpus=[]\n",
    "for msg in df[df['Target']==0]['transformed_text'].tolist():\n",
    "    for word in msg.split():\n",
    "        ham_corpus.append(word)"
   ]
  },
  {
   "cell_type": "code",
   "execution_count": null,
   "id": "2_uYgymOnorZ",
   "metadata": {
    "colab": {
     "base_uri": "https://localhost:8080/"
    },
    "id": "2_uYgymOnorZ",
    "outputId": "6d01a2fd-a092-435c-8a32-2c76eb249e4e"
   },
   "outputs": [],
   "source": [
    "len(ham_corpus)"
   ]
  },
  {
   "cell_type": "code",
   "execution_count": null,
   "id": "4GcRqR1-nxoL",
   "metadata": {
    "colab": {
     "base_uri": "https://localhost:8080/",
     "height": 352
    },
    "id": "4GcRqR1-nxoL",
    "outputId": "7112140f-e010-4bc3-f1b0-e4d37a43f254"
   },
   "outputs": [],
   "source": [
    "from collections import Counter\n",
    "sns.barplot(pd.DataFrame(Counter(ham_corpus).most_common(30))[0],pd.DataFrame(Counter(ham_corpus).most_common(30))[1])\n",
    "plt.xticks(rotation='vertical')\n",
    "plt.show()"
   ]
  },
  {
   "cell_type": "code",
   "execution_count": null,
   "id": "d96ec0cd",
   "metadata": {
    "colab": {
     "base_uri": "https://localhost:8080/",
     "height": 372
    },
    "id": "d96ec0cd",
    "outputId": "46e84fac-1213-4aa5-fa93-aa14b73fb943"
   },
   "outputs": [],
   "source": [
    "df.sample(5)"
   ]
  },
  {
   "cell_type": "markdown",
   "id": "8c159284",
   "metadata": {
    "id": "8c159284"
   },
   "source": [
    "# Model Building"
   ]
  },
  {
   "cell_type": "code",
   "execution_count": null,
   "id": "2dw3mGxGoYOo",
   "metadata": {
    "id": "2dw3mGxGoYOo"
   },
   "outputs": [],
   "source": [
    "#naive bayes"
   ]
  },
  {
   "cell_type": "code",
   "execution_count": null,
   "id": "96b89948",
   "metadata": {
    "id": "96b89948"
   },
   "outputs": [],
   "source": [
    "from sklearn.feature_extraction.text import CountVectorizer,TfidfVectorizer\n",
    "cv = CountVectorizer()\n",
    "tfidf=TfidfVectorizer()"
   ]
  },
  {
   "cell_type": "code",
   "execution_count": null,
   "id": "2WCzaN6WoyEK",
   "metadata": {
    "id": "2WCzaN6WoyEK"
   },
   "outputs": [],
   "source": [
    "X = tfidf.fit_transform(df['transformed_text']).toarray()"
   ]
  },
  {
   "cell_type": "code",
   "execution_count": null,
   "id": "Ppw45TfjvLF7",
   "metadata": {
    "colab": {
     "base_uri": "https://localhost:8080/"
    },
    "id": "Ppw45TfjvLF7",
    "outputId": "b0fc6b5f-606d-4f29-baf6-ab69adabcc7d"
   },
   "outputs": [],
   "source": [
    "X"
   ]
  },
  {
   "cell_type": "code",
   "execution_count": null,
   "id": "ZZmiUMamuyVR",
   "metadata": {
    "colab": {
     "base_uri": "https://localhost:8080/"
    },
    "id": "ZZmiUMamuyVR",
    "outputId": "6db196f6-121c-4f64-8a57-e41f6969b53c"
   },
   "outputs": [],
   "source": [
    "X.shape"
   ]
  },
  {
   "cell_type": "code",
   "execution_count": null,
   "id": "NIiGIekKu9Sg",
   "metadata": {
    "id": "NIiGIekKu9Sg"
   },
   "outputs": [],
   "source": [
    "y = df['Target'].values"
   ]
  },
  {
   "cell_type": "code",
   "execution_count": null,
   "id": "4F5gz-R0vDnM",
   "metadata": {
    "colab": {
     "base_uri": "https://localhost:8080/"
    },
    "id": "4F5gz-R0vDnM",
    "outputId": "c9dfd591-519d-404b-8ccc-bbf91f3cfa64"
   },
   "outputs": [],
   "source": [
    "y"
   ]
  },
  {
   "cell_type": "code",
   "execution_count": null,
   "id": "rhtYmlffvXzA",
   "metadata": {
    "id": "rhtYmlffvXzA"
   },
   "outputs": [],
   "source": [
    "from sklearn.model_selection import train_test_split\n",
    "X_train , X_test , y_train , y_test = train_test_split(X,y,test_size = 0.2,random_state=2)"
   ]
  },
  {
   "cell_type": "code",
   "execution_count": null,
   "id": "aac29743",
   "metadata": {
    "id": "aac29743"
   },
   "outputs": [],
   "source": [
    "from sklearn.naive_bayes import GaussianNB,MultinomialNB,BernoulliNB\n",
    "from sklearn.metrics import accuracy_score,confusion_matrix,precision_score"
   ]
  },
  {
   "cell_type": "code",
   "execution_count": null,
   "id": "db00a807",
   "metadata": {
    "id": "db00a807"
   },
   "outputs": [],
   "source": [
    "gnb =GaussianNB()"
   ]
  },
  {
   "cell_type": "code",
   "execution_count": null,
   "id": "2fb6e9c5",
   "metadata": {
    "id": "2fb6e9c5"
   },
   "outputs": [],
   "source": [
    "mnb=MultinomialNB()"
   ]
  },
  {
   "cell_type": "code",
   "execution_count": null,
   "id": "744da3f4",
   "metadata": {
    "id": "744da3f4"
   },
   "outputs": [],
   "source": [
    "bnb=BernoulliNB()"
   ]
  },
  {
   "cell_type": "code",
   "execution_count": null,
   "id": "13af4987",
   "metadata": {
    "colab": {
     "base_uri": "https://localhost:8080/"
    },
    "id": "13af4987",
    "outputId": "995b027a-0548-42dc-c2e7-f23c74a4daf6"
   },
   "outputs": [],
   "source": [
    "gnb.fit(X_train,y_train)\n",
    "y_pred1=gnb.predict(X_test)\n",
    "print(accuracy_score(y_test,y_pred1))\n",
    "print(confusion_matrix(y_test,y_pred1))\n",
    "print(precision_score(y_test,y_pred1))"
   ]
  },
  {
   "cell_type": "code",
   "execution_count": null,
   "id": "51767f84",
   "metadata": {
    "colab": {
     "base_uri": "https://localhost:8080/"
    },
    "id": "51767f84",
    "outputId": "17b2da1f-6b7e-4929-b603-950e264e8f4a"
   },
   "outputs": [],
   "source": [
    "mnb.fit(X_train,y_train)\n",
    "y_pred2=mnb.predict(X_test)\n",
    "print(accuracy_score(y_test,y_pred2))\n",
    "print(confusion_matrix(y_test,y_pred2))\n",
    "print(precision_score(y_test,y_pred2))"
   ]
  },
  {
   "cell_type": "code",
   "execution_count": null,
   "id": "45fb566f",
   "metadata": {
    "colab": {
     "base_uri": "https://localhost:8080/"
    },
    "id": "45fb566f",
    "outputId": "cf634647-1341-469a-e1d1-fcb17292e032"
   },
   "outputs": [],
   "source": [
    "bnb.fit(X_train,y_train)\n",
    "y_pred3=bnb.predict(X_test)\n",
    "print(accuracy_score(y_test,y_pred3))\n",
    "print(confusion_matrix(y_test,y_pred3))\n",
    "print(precision_score(y_test,y_pred3))"
   ]
  },
  {
   "cell_type": "code",
   "execution_count": null,
   "id": "a6eaeea4",
   "metadata": {
    "id": "a6eaeea4"
   },
   "outputs": [],
   "source": [
    "#1:02:39-tfidf - watch again from here"
   ]
  },
  {
   "cell_type": "code",
   "execution_count": null,
   "id": "989b6128",
   "metadata": {
    "id": "989b6128"
   },
   "outputs": [],
   "source": [
    "#tfidf --> mnb"
   ]
  },
  {
   "cell_type": "code",
   "execution_count": null,
   "id": "38903422",
   "metadata": {
    "id": "38903422"
   },
   "outputs": [],
   "source": [
    "from sklearn.linear_model import LogisticRegression\n",
    "from sklearn.svm import SVC\n",
    "from sklearn.naive_bayes import MultinomialNB\n",
    "from sklearn.tree import DecisionTreeClassifier\n",
    "from sklearn.neighbors import KNeighborsClassifier\n",
    "from sklearn.ensemble import RandomForestClassifier\n",
    "from sklearn.ensemble import AdaBoostClassifier\n",
    "from sklearn.ensemble import BaggingClassifier\n",
    "from sklearn.ensemble import ExtraTreesClassifier\n",
    "from sklearn.ensemble import GradientBoostingClassifier\n",
    "from xgboost import XGBClassifier\n"
   ]
  },
  {
   "cell_type": "code",
   "execution_count": null,
   "id": "6tsuTNarxo3g",
   "metadata": {
    "id": "6tsuTNarxo3g"
   },
   "outputs": [],
   "source": [
    "svc = SVC(kernel='sigmoid', gamma=1.0)\n",
    "knc = KNeighborsClassifier()\n",
    "mnb = MultinomialNB()\n",
    "dtc = DecisionTreeClassifier(max_depth=5)\n",
    "lrc = LogisticRegression(solver='liblinear', penalty='l1')\n",
    "rfc = RandomForestClassifier(n_estimators=50, random_state=2)\n",
    "abc = AdaBoostClassifier(n_estimators=50, random_state=2)\n",
    "bc = BaggingClassifier(n_estimators=50, random_state=2)\n",
    "etc = ExtraTreesClassifier(n_estimators=50, random_state=2)\n",
    "gbdt = GradientBoostingClassifier(n_estimators=50,random_state=2)\n",
    "xgb = XGBClassifier(n_estimators=50,random_state=2)"
   ]
  },
  {
   "cell_type": "code",
   "execution_count": null,
   "id": "625LFCJixskO",
   "metadata": {
    "id": "625LFCJixskO"
   },
   "outputs": [],
   "source": [
    "clfs = {\n",
    "    'SVC' : svc,\n",
    "    'KN' : knc, \n",
    "    'NB': mnb, \n",
    "    'DT': dtc, \n",
    "    'LR': lrc, \n",
    "    'RF': rfc, \n",
    "    'AdaBoost': abc, \n",
    "    'BgC': bc, \n",
    "    'ETC': etc,\n",
    "    'GBDT':gbdt,\n",
    "    'xgb':xgb\n",
    "}\n"
   ]
  },
  {
   "cell_type": "code",
   "execution_count": null,
   "id": "aC1-U0IiyCBr",
   "metadata": {
    "id": "aC1-U0IiyCBr"
   },
   "outputs": [],
   "source": [
    "def train_classifier(clf,X_train,y_train,X_test,y_test):\n",
    "    clf.fit(X_train,y_train)\n",
    "    y_pred = clf.predict(X_test)\n",
    "    accuracy = accuracy_score(y_test,y_pred)\n",
    "    precision = precision_score(y_test,y_pred)\n",
    "    \n",
    "    return accuracy,precision\n"
   ]
  },
  {
   "cell_type": "code",
   "execution_count": null,
   "id": "p03X63jEyE8g",
   "metadata": {
    "colab": {
     "base_uri": "https://localhost:8080/"
    },
    "id": "p03X63jEyE8g",
    "outputId": "8685fa63-cc1a-4294-8947-73c840645627"
   },
   "outputs": [],
   "source": [
    "train_classifier(svc,X_train,y_train,X_test,y_test)"
   ]
  },
  {
   "cell_type": "code",
   "execution_count": null,
   "id": "nogKwzC5yW0j",
   "metadata": {
    "colab": {
     "base_uri": "https://localhost:8080/"
    },
    "id": "nogKwzC5yW0j",
    "outputId": "5853a9fa-49c1-4ece-8caa-7f0b6c252863"
   },
   "outputs": [],
   "source": [
    "accuracy_scores = []\n",
    "precision_scores = []\n",
    "\n",
    "for name,clf in clfs.items():\n",
    "    \n",
    "    current_accuracy,current_precision = train_classifier(clf, X_train,y_train,X_test,y_test)\n",
    "    \n",
    "    print(\"For \",name)\n",
    "    print(\"Accuracy - \",current_accuracy)\n",
    "    print(\"Precision - \",current_precision)\n",
    "    \n",
    "    accuracy_scores.append(current_accuracy)\n",
    "    precision_scores.append(current_precision)"
   ]
  },
  {
   "cell_type": "code",
   "execution_count": null,
   "id": "ePiAULxAydEd",
   "metadata": {
    "colab": {
     "base_uri": "https://localhost:8080/",
     "height": 394
    },
    "id": "ePiAULxAydEd",
    "outputId": "6d985b0a-7de3-48dc-fba8-33d27c88a5ed"
   },
   "outputs": [],
   "source": [
    "performance_df = pd.DataFrame({'Algorithm':clfs.keys(),'Accuracy':accuracy_scores,'Precision':precision_scores}).sort_values('Precision',ascending=False)\n",
    "\n",
    "performance_df"
   ]
  },
  {
   "cell_type": "code",
   "execution_count": null,
   "id": "bi1t1M36zuFv",
   "metadata": {
    "colab": {
     "base_uri": "https://localhost:8080/",
     "height": 394
    },
    "id": "bi1t1M36zuFv",
    "outputId": "d6488dd8-d311-4c61-988d-e5f2e4a7ccee"
   },
   "outputs": [],
   "source": [
    "performance_df = pd.DataFrame({'Algorithm':clfs.keys(),'Accuracy':accuracy_scores,'Precision':precision_scores}).sort_values('Accuracy',ascending=False)\n",
    "\n",
    "performance_df"
   ]
  },
  {
   "cell_type": "code",
   "execution_count": null,
   "id": "MHDTPxcjzx8f",
   "metadata": {
    "id": "MHDTPxcjzx8f"
   },
   "outputs": [],
   "source": [
    "import pickle\n",
    "pickle.dump(tfidf,open('vectorizer.pkl','wb'))\n",
    "pickle.dump(mnb,open('model.pkl','wb'))"
   ]
  },
  {
   "cell_type": "code",
   "execution_count": null,
   "id": "d01575a3",
   "metadata": {},
   "outputs": [],
   "source": []
  }
 ],
 "metadata": {
  "colab": {
   "provenance": []
  },
  "kernelspec": {
   "display_name": "Python 3 (ipykernel)",
   "language": "python",
   "name": "python3"
  },
  "language_info": {
   "codemirror_mode": {
    "name": "ipython",
    "version": 3
   },
   "file_extension": ".py",
   "mimetype": "text/x-python",
   "name": "python",
   "nbconvert_exporter": "python",
   "pygments_lexer": "ipython3",
   "version": "3.10.6"
  }
 },
 "nbformat": 4,
 "nbformat_minor": 5
}
